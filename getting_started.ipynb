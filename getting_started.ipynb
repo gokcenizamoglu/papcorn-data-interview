{
 "cells": [
  {
   "cell_type": "markdown",
   "metadata": {},
   "source": [
    "# Papcorns Data Scientist Task - Getting Started\n",
    "\n",
    "This notebook will help you get started with the Papcorns data scientist technical assessment. We'll show you how to:\n",
    "1. Install requirements and do the imports\n",
    "2. Connect to the SQLite database\n",
    "3. Load the data into pandas DataFrames\n",
    "\n",
    "First, let's import the required libraries:\n"
   ]
  },
  {
   "cell_type": "markdown",
   "metadata": {},
   "source": [
    "## Installing Requirements\n",
    "\n",
    "Let's install the required libraries:"
   ]
  },
  {
   "cell_type": "code",
   "execution_count": 1,
   "metadata": {
    "scrolled": false
   },
   "outputs": [
    {
     "name": "stdout",
     "output_type": "stream",
     "text": [
      "Requirement already satisfied: pandas in c:\\users\\gokce\\anaconda3\\lib\\site-packages (from -r requirements.txt (line 1)) (1.4.4)\n",
      "Requirement already satisfied: numpy in c:\\users\\gokce\\anaconda3\\lib\\site-packages (from -r requirements.txt (line 2)) (1.21.5)\n",
      "Requirement already satisfied: matplotlib in c:\\users\\gokce\\anaconda3\\lib\\site-packages (from -r requirements.txt (line 3)) (3.5.2)\n",
      "Requirement already satisfied: seaborn in c:\\users\\gokce\\anaconda3\\lib\\site-packages (from -r requirements.txt (line 4)) (0.11.2)\n",
      "Requirement already satisfied: jupyter in c:\\users\\gokce\\anaconda3\\lib\\site-packages (from -r requirements.txt (line 5)) (1.0.0)\n",
      "Requirement already satisfied: pytz>=2020.1 in c:\\users\\gokce\\anaconda3\\lib\\site-packages (from pandas->-r requirements.txt (line 1)) (2022.1)\n",
      "Requirement already satisfied: python-dateutil>=2.8.1 in c:\\users\\gokce\\anaconda3\\lib\\site-packages (from pandas->-r requirements.txt (line 1)) (2.8.2)\n",
      "Requirement already satisfied: kiwisolver>=1.0.1 in c:\\users\\gokce\\anaconda3\\lib\\site-packages (from matplotlib->-r requirements.txt (line 3)) (1.4.2)\n",
      "Requirement already satisfied: pillow>=6.2.0 in c:\\users\\gokce\\anaconda3\\lib\\site-packages (from matplotlib->-r requirements.txt (line 3)) (9.2.0)\n",
      "Requirement already satisfied: packaging>=20.0 in c:\\users\\gokce\\anaconda3\\lib\\site-packages (from matplotlib->-r requirements.txt (line 3)) (21.3)\n",
      "Requirement already satisfied: fonttools>=4.22.0 in c:\\users\\gokce\\anaconda3\\lib\\site-packages (from matplotlib->-r requirements.txt (line 3)) (4.25.0)\n",
      "Requirement already satisfied: cycler>=0.10 in c:\\users\\gokce\\anaconda3\\lib\\site-packages (from matplotlib->-r requirements.txt (line 3)) (0.11.0)\n",
      "Requirement already satisfied: pyparsing>=2.2.1 in c:\\users\\gokce\\anaconda3\\lib\\site-packages (from matplotlib->-r requirements.txt (line 3)) (3.0.9)\n",
      "Requirement already satisfied: scipy>=1.0 in c:\\users\\gokce\\anaconda3\\lib\\site-packages (from seaborn->-r requirements.txt (line 4)) (1.9.1)\n",
      "Requirement already satisfied: jupyter-console in c:\\users\\gokce\\anaconda3\\lib\\site-packages (from jupyter->-r requirements.txt (line 5)) (6.4.3)\n",
      "Requirement already satisfied: ipywidgets in c:\\users\\gokce\\anaconda3\\lib\\site-packages (from jupyter->-r requirements.txt (line 5)) (7.6.5)\n",
      "Requirement already satisfied: nbconvert in c:\\users\\gokce\\anaconda3\\lib\\site-packages (from jupyter->-r requirements.txt (line 5)) (6.4.4)\n",
      "Requirement already satisfied: qtconsole in c:\\users\\gokce\\anaconda3\\lib\\site-packages (from jupyter->-r requirements.txt (line 5)) (5.2.2)\n",
      "Requirement already satisfied: ipykernel in c:\\users\\gokce\\anaconda3\\lib\\site-packages (from jupyter->-r requirements.txt (line 5)) (6.15.2)\n",
      "Requirement already satisfied: notebook in c:\\users\\gokce\\anaconda3\\lib\\site-packages (from jupyter->-r requirements.txt (line 5)) (6.4.12)\n",
      "Requirement already satisfied: six>=1.5 in c:\\users\\gokce\\anaconda3\\lib\\site-packages (from python-dateutil>=2.8.1->pandas->-r requirements.txt (line 1)) (1.16.0)\n",
      "Requirement already satisfied: jupyter-client>=6.1.12 in c:\\users\\gokce\\anaconda3\\lib\\site-packages (from ipykernel->jupyter->-r requirements.txt (line 5)) (7.3.4)\n",
      "Requirement already satisfied: debugpy>=1.0 in c:\\users\\gokce\\anaconda3\\lib\\site-packages (from ipykernel->jupyter->-r requirements.txt (line 5)) (1.5.1)\n",
      "Requirement already satisfied: pyzmq>=17 in c:\\users\\gokce\\anaconda3\\lib\\site-packages (from ipykernel->jupyter->-r requirements.txt (line 5)) (23.2.0)\n",
      "Requirement already satisfied: tornado>=6.1 in c:\\users\\gokce\\anaconda3\\lib\\site-packages (from ipykernel->jupyter->-r requirements.txt (line 5)) (6.1)\n",
      "Requirement already satisfied: traitlets>=5.1.0 in c:\\users\\gokce\\anaconda3\\lib\\site-packages (from ipykernel->jupyter->-r requirements.txt (line 5)) (5.1.1)\n",
      "Requirement already satisfied: psutil in c:\\users\\gokce\\anaconda3\\lib\\site-packages (from ipykernel->jupyter->-r requirements.txt (line 5)) (5.9.0)\n",
      "Requirement already satisfied: ipython>=7.23.1 in c:\\users\\gokce\\anaconda3\\lib\\site-packages (from ipykernel->jupyter->-r requirements.txt (line 5)) (7.31.1)\n",
      "Requirement already satisfied: matplotlib-inline>=0.1 in c:\\users\\gokce\\anaconda3\\lib\\site-packages (from ipykernel->jupyter->-r requirements.txt (line 5)) (0.1.6)\n",
      "Requirement already satisfied: nest-asyncio in c:\\users\\gokce\\anaconda3\\lib\\site-packages (from ipykernel->jupyter->-r requirements.txt (line 5)) (1.5.5)\n",
      "Requirement already satisfied: nbformat>=4.2.0 in c:\\users\\gokce\\anaconda3\\lib\\site-packages (from ipywidgets->jupyter->-r requirements.txt (line 5)) (5.5.0)\n",
      "Requirement already satisfied: jupyterlab-widgets>=1.0.0 in c:\\users\\gokce\\anaconda3\\lib\\site-packages (from ipywidgets->jupyter->-r requirements.txt (line 5)) (1.0.0)\n",
      "Requirement already satisfied: ipython-genutils~=0.2.0 in c:\\users\\gokce\\anaconda3\\lib\\site-packages (from ipywidgets->jupyter->-r requirements.txt (line 5)) (0.2.0)\n",
      "Requirement already satisfied: widgetsnbextension~=3.5.0 in c:\\users\\gokce\\anaconda3\\lib\\site-packages (from ipywidgets->jupyter->-r requirements.txt (line 5)) (3.5.2)\n",
      "Requirement already satisfied: pygments in c:\\users\\gokce\\anaconda3\\lib\\site-packages (from jupyter-console->jupyter->-r requirements.txt (line 5)) (2.11.2)\n",
      "Requirement already satisfied: prompt-toolkit!=3.0.0,!=3.0.1,<3.1.0,>=2.0.0 in c:\\users\\gokce\\anaconda3\\lib\\site-packages (from jupyter-console->jupyter->-r requirements.txt (line 5)) (3.0.20)\n",
      "Requirement already satisfied: testpath in c:\\users\\gokce\\anaconda3\\lib\\site-packages (from nbconvert->jupyter->-r requirements.txt (line 5)) (0.6.0)\n",
      "Requirement already satisfied: entrypoints>=0.2.2 in c:\\users\\gokce\\anaconda3\\lib\\site-packages (from nbconvert->jupyter->-r requirements.txt (line 5)) (0.4)\n",
      "Requirement already satisfied: nbclient<0.6.0,>=0.5.0 in c:\\users\\gokce\\anaconda3\\lib\\site-packages (from nbconvert->jupyter->-r requirements.txt (line 5)) (0.5.13)\n",
      "Requirement already satisfied: pandocfilters>=1.4.1 in c:\\users\\gokce\\anaconda3\\lib\\site-packages (from nbconvert->jupyter->-r requirements.txt (line 5)) (1.5.0)\n",
      "Requirement already satisfied: jupyterlab-pygments in c:\\users\\gokce\\anaconda3\\lib\\site-packages (from nbconvert->jupyter->-r requirements.txt (line 5)) (0.1.2)\n",
      "Requirement already satisfied: mistune<2,>=0.8.1 in c:\\users\\gokce\\anaconda3\\lib\\site-packages (from nbconvert->jupyter->-r requirements.txt (line 5)) (0.8.4)\n",
      "Requirement already satisfied: bleach in c:\\users\\gokce\\anaconda3\\lib\\site-packages (from nbconvert->jupyter->-r requirements.txt (line 5)) (4.1.0)\n",
      "Requirement already satisfied: jinja2>=2.4 in c:\\users\\gokce\\anaconda3\\lib\\site-packages (from nbconvert->jupyter->-r requirements.txt (line 5)) (2.11.3)\n",
      "Requirement already satisfied: jupyter-core in c:\\users\\gokce\\anaconda3\\lib\\site-packages (from nbconvert->jupyter->-r requirements.txt (line 5)) (4.11.1)\n",
      "Requirement already satisfied: defusedxml in c:\\users\\gokce\\anaconda3\\lib\\site-packages (from nbconvert->jupyter->-r requirements.txt (line 5)) (0.7.1)\n",
      "Requirement already satisfied: beautifulsoup4 in c:\\users\\gokce\\anaconda3\\lib\\site-packages (from nbconvert->jupyter->-r requirements.txt (line 5)) (4.11.1)\n",
      "Requirement already satisfied: Send2Trash>=1.8.0 in c:\\users\\gokce\\anaconda3\\lib\\site-packages (from notebook->jupyter->-r requirements.txt (line 5)) (1.8.0)\n",
      "Requirement already satisfied: terminado>=0.8.3 in c:\\users\\gokce\\anaconda3\\lib\\site-packages (from notebook->jupyter->-r requirements.txt (line 5)) (0.13.1)\n",
      "Requirement already satisfied: argon2-cffi in c:\\users\\gokce\\anaconda3\\lib\\site-packages (from notebook->jupyter->-r requirements.txt (line 5)) (21.3.0)\n",
      "Requirement already satisfied: prometheus-client in c:\\users\\gokce\\anaconda3\\lib\\site-packages (from notebook->jupyter->-r requirements.txt (line 5)) (0.14.1)\n",
      "Requirement already satisfied: qtpy in c:\\users\\gokce\\anaconda3\\lib\\site-packages (from qtconsole->jupyter->-r requirements.txt (line 5)) (2.2.0)\n",
      "Requirement already satisfied: setuptools>=18.5 in c:\\users\\gokce\\anaconda3\\lib\\site-packages (from ipython>=7.23.1->ipykernel->jupyter->-r requirements.txt (line 5)) (63.4.1)\n",
      "Requirement already satisfied: decorator in c:\\users\\gokce\\anaconda3\\lib\\site-packages (from ipython>=7.23.1->ipykernel->jupyter->-r requirements.txt (line 5)) (5.1.1)\n",
      "Requirement already satisfied: pickleshare in c:\\users\\gokce\\anaconda3\\lib\\site-packages (from ipython>=7.23.1->ipykernel->jupyter->-r requirements.txt (line 5)) (0.7.5)\n",
      "Requirement already satisfied: colorama in c:\\users\\gokce\\anaconda3\\lib\\site-packages (from ipython>=7.23.1->ipykernel->jupyter->-r requirements.txt (line 5)) (0.4.5)\n",
      "Requirement already satisfied: backcall in c:\\users\\gokce\\anaconda3\\lib\\site-packages (from ipython>=7.23.1->ipykernel->jupyter->-r requirements.txt (line 5)) (0.2.0)\n",
      "Requirement already satisfied: jedi>=0.16 in c:\\users\\gokce\\anaconda3\\lib\\site-packages (from ipython>=7.23.1->ipykernel->jupyter->-r requirements.txt (line 5)) (0.18.1)\n",
      "Requirement already satisfied: MarkupSafe>=0.23 in c:\\users\\gokce\\anaconda3\\lib\\site-packages (from jinja2>=2.4->nbconvert->jupyter->-r requirements.txt (line 5)) (2.0.1)\n",
      "Requirement already satisfied: pywin32>=1.0 in c:\\users\\gokce\\anaconda3\\lib\\site-packages (from jupyter-core->nbconvert->jupyter->-r requirements.txt (line 5)) (302)\n",
      "Requirement already satisfied: fastjsonschema in c:\\users\\gokce\\anaconda3\\lib\\site-packages (from nbformat>=4.2.0->ipywidgets->jupyter->-r requirements.txt (line 5)) (2.16.2)\n",
      "Requirement already satisfied: jsonschema>=2.6 in c:\\users\\gokce\\anaconda3\\lib\\site-packages (from nbformat>=4.2.0->ipywidgets->jupyter->-r requirements.txt (line 5)) (4.16.0)\n",
      "Requirement already satisfied: wcwidth in c:\\users\\gokce\\anaconda3\\lib\\site-packages (from prompt-toolkit!=3.0.0,!=3.0.1,<3.1.0,>=2.0.0->jupyter-console->jupyter->-r requirements.txt (line 5)) (0.2.5)\n",
      "Requirement already satisfied: pywinpty>=1.1.0 in c:\\users\\gokce\\anaconda3\\lib\\site-packages (from terminado>=0.8.3->notebook->jupyter->-r requirements.txt (line 5)) (2.0.2)\n",
      "Requirement already satisfied: argon2-cffi-bindings in c:\\users\\gokce\\anaconda3\\lib\\site-packages (from argon2-cffi->notebook->jupyter->-r requirements.txt (line 5)) (21.2.0)\n",
      "Requirement already satisfied: soupsieve>1.2 in c:\\users\\gokce\\anaconda3\\lib\\site-packages (from beautifulsoup4->nbconvert->jupyter->-r requirements.txt (line 5)) (2.3.1)\n",
      "Requirement already satisfied: webencodings in c:\\users\\gokce\\anaconda3\\lib\\site-packages (from bleach->nbconvert->jupyter->-r requirements.txt (line 5)) (0.5.1)\n",
      "Requirement already satisfied: parso<0.9.0,>=0.8.0 in c:\\users\\gokce\\anaconda3\\lib\\site-packages (from jedi>=0.16->ipython>=7.23.1->ipykernel->jupyter->-r requirements.txt (line 5)) (0.8.3)\n",
      "Requirement already satisfied: attrs>=17.4.0 in c:\\users\\gokce\\anaconda3\\lib\\site-packages (from jsonschema>=2.6->nbformat>=4.2.0->ipywidgets->jupyter->-r requirements.txt (line 5)) (21.4.0)\n",
      "Requirement already satisfied: pyrsistent!=0.17.0,!=0.17.1,!=0.17.2,>=0.14.0 in c:\\users\\gokce\\anaconda3\\lib\\site-packages (from jsonschema>=2.6->nbformat>=4.2.0->ipywidgets->jupyter->-r requirements.txt (line 5)) (0.18.0)\n",
      "Requirement already satisfied: cffi>=1.0.1 in c:\\users\\gokce\\anaconda3\\lib\\site-packages (from argon2-cffi-bindings->argon2-cffi->notebook->jupyter->-r requirements.txt (line 5)) (1.15.1)\n",
      "Requirement already satisfied: pycparser in c:\\users\\gokce\\anaconda3\\lib\\site-packages (from cffi>=1.0.1->argon2-cffi-bindings->argon2-cffi->notebook->jupyter->-r requirements.txt (line 5)) (2.21)\n"
     ]
    }
   ],
   "source": [
    "!pip install -r requirements.txt"
   ]
  },
  {
   "cell_type": "markdown",
   "metadata": {},
   "source": [
    "## Imports\n",
    "\n",
    "Let's do the imports:"
   ]
  },
  {
   "cell_type": "code",
   "execution_count": 1,
   "metadata": {},
   "outputs": [],
   "source": [
    "import pandas as pd\n",
    "import numpy as np\n",
    "import sqlite3\n",
    "import matplotlib.pyplot as plt\n",
    "import seaborn as sns\n",
    "from datetime import datetime\n",
    "\n",
    "# Set plotting style\n",
    "plt.style.use('seaborn')\n",
    "sns.set_palette('deep')"
   ]
  },
  {
   "cell_type": "markdown",
   "metadata": {},
   "source": [
    "## Connecting to the Database\n",
    "\n",
    "Let's establish a connection to the SQLite database:"
   ]
  },
  {
   "cell_type": "code",
   "execution_count": 2,
   "metadata": {},
   "outputs": [],
   "source": [
    "# Connect to the SQLite database\n",
    "conn = sqlite3.connect('papcorns.sqlite')"
   ]
  },
  {
   "cell_type": "markdown",
   "metadata": {},
   "source": [
    "## Exploring the Data Structure\n",
    "\n",
    "Let's look at the structure of our tables:"
   ]
  },
  {
   "cell_type": "code",
   "execution_count": 3,
   "metadata": {},
   "outputs": [
    {
     "name": "stdout",
     "output_type": "stream",
     "text": [
      "Users table preview:\n"
     ]
    },
    {
     "data": {
      "text/html": [
       "<div>\n",
       "<style scoped>\n",
       "    .dataframe tbody tr th:only-of-type {\n",
       "        vertical-align: middle;\n",
       "    }\n",
       "\n",
       "    .dataframe tbody tr th {\n",
       "        vertical-align: top;\n",
       "    }\n",
       "\n",
       "    .dataframe thead th {\n",
       "        text-align: right;\n",
       "    }\n",
       "</style>\n",
       "<table border=\"1\" class=\"dataframe\">\n",
       "  <thead>\n",
       "    <tr style=\"text-align: right;\">\n",
       "      <th></th>\n",
       "      <th>id</th>\n",
       "      <th>created_at</th>\n",
       "      <th>attribution_source</th>\n",
       "      <th>country</th>\n",
       "      <th>name</th>\n",
       "    </tr>\n",
       "  </thead>\n",
       "  <tbody>\n",
       "    <tr>\n",
       "      <th>0</th>\n",
       "      <td>1</td>\n",
       "      <td>2024-05-07T00:00:00</td>\n",
       "      <td>instagram</td>\n",
       "      <td>US</td>\n",
       "      <td>Eve Brown</td>\n",
       "    </tr>\n",
       "    <tr>\n",
       "      <th>1</th>\n",
       "      <td>2</td>\n",
       "      <td>2024-10-12T00:00:00</td>\n",
       "      <td>instagram</td>\n",
       "      <td>NL</td>\n",
       "      <td>Frank Moore</td>\n",
       "    </tr>\n",
       "    <tr>\n",
       "      <th>2</th>\n",
       "      <td>3</td>\n",
       "      <td>2024-10-15T00:00:00</td>\n",
       "      <td>tiktok</td>\n",
       "      <td>TR</td>\n",
       "      <td>Ivy Anderson</td>\n",
       "    </tr>\n",
       "    <tr>\n",
       "      <th>3</th>\n",
       "      <td>4</td>\n",
       "      <td>2024-08-28T00:00:00</td>\n",
       "      <td>tiktok</td>\n",
       "      <td>TR</td>\n",
       "      <td>Alice Brown</td>\n",
       "    </tr>\n",
       "    <tr>\n",
       "      <th>4</th>\n",
       "      <td>5</td>\n",
       "      <td>2024-04-03T00:00:00</td>\n",
       "      <td>organic</td>\n",
       "      <td>NL</td>\n",
       "      <td>Bob Moore</td>\n",
       "    </tr>\n",
       "  </tbody>\n",
       "</table>\n",
       "</div>"
      ],
      "text/plain": [
       "   id           created_at attribution_source country          name\n",
       "0   1  2024-05-07T00:00:00          instagram      US     Eve Brown\n",
       "1   2  2024-10-12T00:00:00          instagram      NL   Frank Moore\n",
       "2   3  2024-10-15T00:00:00             tiktok      TR  Ivy Anderson\n",
       "3   4  2024-08-28T00:00:00             tiktok      TR   Alice Brown\n",
       "4   5  2024-04-03T00:00:00            organic      NL     Bob Moore"
      ]
     },
     "metadata": {},
     "output_type": "display_data"
    },
    {
     "name": "stdout",
     "output_type": "stream",
     "text": [
      "\n",
      "User events table preview:\n"
     ]
    },
    {
     "data": {
      "text/html": [
       "<div>\n",
       "<style scoped>\n",
       "    .dataframe tbody tr th:only-of-type {\n",
       "        vertical-align: middle;\n",
       "    }\n",
       "\n",
       "    .dataframe tbody tr th {\n",
       "        vertical-align: top;\n",
       "    }\n",
       "\n",
       "    .dataframe thead th {\n",
       "        text-align: right;\n",
       "    }\n",
       "</style>\n",
       "<table border=\"1\" class=\"dataframe\">\n",
       "  <thead>\n",
       "    <tr style=\"text-align: right;\">\n",
       "      <th></th>\n",
       "      <th>id</th>\n",
       "      <th>created_at</th>\n",
       "      <th>user_id</th>\n",
       "      <th>event_name</th>\n",
       "      <th>amount_usd</th>\n",
       "    </tr>\n",
       "  </thead>\n",
       "  <tbody>\n",
       "    <tr>\n",
       "      <th>0</th>\n",
       "      <td>1</td>\n",
       "      <td>2024-05-07T00:00:00</td>\n",
       "      <td>1</td>\n",
       "      <td>app_install</td>\n",
       "      <td>None</td>\n",
       "    </tr>\n",
       "    <tr>\n",
       "      <th>1</th>\n",
       "      <td>2</td>\n",
       "      <td>2024-05-12T00:00:00</td>\n",
       "      <td>1</td>\n",
       "      <td>trial_started</td>\n",
       "      <td>None</td>\n",
       "    </tr>\n",
       "    <tr>\n",
       "      <th>2</th>\n",
       "      <td>3</td>\n",
       "      <td>2024-05-24T00:00:00</td>\n",
       "      <td>1</td>\n",
       "      <td>trial_cancelled</td>\n",
       "      <td>None</td>\n",
       "    </tr>\n",
       "    <tr>\n",
       "      <th>3</th>\n",
       "      <td>4</td>\n",
       "      <td>2024-10-12T00:00:00</td>\n",
       "      <td>2</td>\n",
       "      <td>app_install</td>\n",
       "      <td>None</td>\n",
       "    </tr>\n",
       "    <tr>\n",
       "      <th>4</th>\n",
       "      <td>5</td>\n",
       "      <td>2024-10-13T00:00:00</td>\n",
       "      <td>2</td>\n",
       "      <td>trial_started</td>\n",
       "      <td>None</td>\n",
       "    </tr>\n",
       "  </tbody>\n",
       "</table>\n",
       "</div>"
      ],
      "text/plain": [
       "   id           created_at  user_id       event_name amount_usd\n",
       "0   1  2024-05-07T00:00:00        1      app_install       None\n",
       "1   2  2024-05-12T00:00:00        1    trial_started       None\n",
       "2   3  2024-05-24T00:00:00        1  trial_cancelled       None\n",
       "3   4  2024-10-12T00:00:00        2      app_install       None\n",
       "4   5  2024-10-13T00:00:00        2    trial_started       None"
      ]
     },
     "metadata": {},
     "output_type": "display_data"
    }
   ],
   "source": [
    "# Load users table\n",
    "users_df = pd.read_sql_query(\"SELECT * FROM users LIMIT 5;\", conn)\n",
    "print(\"Users table preview:\")\n",
    "display(users_df)\n",
    "\n",
    "# Load events table\n",
    "events_df = pd.read_sql_query(\"SELECT * FROM user_events LIMIT 5;\", conn)\n",
    "print(\"\\nUser events table preview:\")\n",
    "display(events_df)"
   ]
  },
  {
   "cell_type": "code",
   "execution_count": 6,
   "metadata": {},
   "outputs": [
    {
     "name": "stdout",
     "output_type": "stream",
     "text": [
      "  country  total_revenue\n",
      "0      NL        3335.29\n",
      "1      TR        2275.44\n",
      "2      US        4035.96\n"
     ]
    }
   ],
   "source": [
    "# SQL sorgusunu çalıştır\n",
    "query = \"\"\"\n",
    "SELECT users.country, SUM(user_events.amount_usd) AS total_revenue\n",
    "FROM user_events\n",
    "JOIN users ON user_events.user_id = users.id\n",
    "WHERE user_events.event_name IN ('subscription_started', 'subscription_renewed')\n",
    "GROUP BY users.country;\n",
    "\"\"\"\n",
    "revenue_by_country = pd.read_sql_query(query, conn)\n",
    "\n",
    "\n",
    "# Sonucu yazdır\n",
    "print(revenue_by_country)"
   ]
  },
  {
   "cell_type": "code",
   "execution_count": 7,
   "metadata": {},
   "outputs": [
    {
     "name": "stdout",
     "output_type": "stream",
     "text": [
      "   id           created_at attribution_source country          name\n",
      "0   1  2024-05-07T00:00:00          instagram      US     Eve Brown\n",
      "1   2  2024-10-12T00:00:00          instagram      NL   Frank Moore\n",
      "2   3  2024-10-15T00:00:00             tiktok      TR  Ivy Anderson\n",
      "3   4  2024-08-28T00:00:00             tiktok      TR   Alice Brown\n",
      "4   5  2024-04-03T00:00:00            organic      NL     Bob Moore\n",
      "   id           created_at  user_id       event_name  amount_usd\n",
      "0   1  2024-05-07T00:00:00        1      app_install         NaN\n",
      "1   2  2024-05-12T00:00:00        1    trial_started         NaN\n",
      "2   3  2024-05-24T00:00:00        1  trial_cancelled         NaN\n",
      "3   4  2024-10-12T00:00:00        2      app_install         NaN\n",
      "4   5  2024-10-13T00:00:00        2    trial_started         NaN\n"
     ]
    }
   ],
   "source": [
    "# SQL sorgusu (örnek: users tablosunu çekme)\n",
    "query = \"SELECT * FROM users\"\n",
    "df_users = pd.read_sql(query, conn)\n",
    "\n",
    "# SQL sorgusu (örnek: user_events tablosunu çekme)\n",
    "query = \"SELECT * FROM user_events\"\n",
    "df_events = pd.read_sql(query, conn)\n",
    "\n",
    "# İlk 5 satırı yazdır\n",
    "print(df_users.head())\n",
    "print(df_events.head())"
   ]
  },
  {
   "cell_type": "code",
   "execution_count": 11,
   "metadata": {},
   "outputs": [
    {
     "name": "stdout",
     "output_type": "stream",
     "text": [
      "Users Veri Tipleri:\n",
      "id                     int64\n",
      "created_at            object\n",
      "attribution_source    object\n",
      "country               object\n",
      "name                  object\n",
      "dtype: object\n",
      "\n",
      "User Events Veri Tipleri:\n",
      "id              int64\n",
      "created_at     object\n",
      "user_id         int64\n",
      "event_name     object\n",
      "amount_usd    float64\n",
      "dtype: object\n"
     ]
    }
   ],
   "source": [
    "# Users ve User Events veri tipleri\n",
    "print(\"Users Veri Tipleri:\")\n",
    "print(df_users.dtypes)\n",
    "\n",
    "print(\"\\nUser Events Veri Tipleri:\")\n",
    "print(df_events.dtypes)\n"
   ]
  },
  {
   "cell_type": "code",
   "execution_count": 12,
   "metadata": {},
   "outputs": [
    {
     "name": "stdout",
     "output_type": "stream",
     "text": [
      "Users Tablosunda Eksik Değerler:\n",
      "id                    0\n",
      "created_at            0\n",
      "attribution_source    0\n",
      "country               0\n",
      "name                  0\n",
      "dtype: int64\n",
      "\n",
      "User Events Tablosunda Eksik Değerler:\n",
      "id               0\n",
      "created_at       0\n",
      "user_id          0\n",
      "event_name       0\n",
      "amount_usd    2255\n",
      "dtype: int64\n"
     ]
    }
   ],
   "source": [
    "# Eksik değerleri kontrol et\n",
    "print(\"Users Tablosunda Eksik Değerler:\")\n",
    "print(df_users.isnull().sum())\n",
    "\n",
    "print(\"\\nUser Events Tablosunda Eksik Değerler:\")\n",
    "print(df_events.isnull().sum())\n"
   ]
  },
  {
   "cell_type": "code",
   "execution_count": 13,
   "metadata": {},
   "outputs": [
    {
     "name": "stdout",
     "output_type": "stream",
     "text": [
      "Users Tablosu - Özet İstatistikler:\n",
      "                id\n",
      "count  1002.000000\n",
      "mean    501.500000\n",
      "std     289.396786\n",
      "min       1.000000\n",
      "25%     251.250000\n",
      "50%     501.500000\n",
      "75%     751.750000\n",
      "max    1002.000000\n",
      "\n",
      "User Events Tablosu - Özet İstatistikler:\n",
      "                id      user_id   amount_usd\n",
      "count  3486.000000  3486.000000  1231.000000\n",
      "mean   1743.500000   502.910499     7.836466\n",
      "std    1006.465846   289.650625     2.220009\n",
      "min       1.000000     1.000000     4.990000\n",
      "25%     872.250000   256.250000     4.990000\n",
      "50%    1743.500000   499.500000     8.990000\n",
      "75%    2614.750000   754.000000     9.990000\n",
      "max    3486.000000  1002.000000     9.990000\n"
     ]
    }
   ],
   "source": [
    "# Sayısal sütunlar için özet istatistikler\n",
    "print(\"Users Tablosu - Özet İstatistikler:\")\n",
    "print(df_users.describe())\n",
    "\n",
    "print(\"\\nUser Events Tablosu - Özet İstatistikler:\")\n",
    "print(df_events.describe())\n"
   ]
  },
  {
   "cell_type": "code",
   "execution_count": 14,
   "metadata": {},
   "outputs": [
    {
     "name": "stdout",
     "output_type": "stream",
     "text": [
      "Kullanıcıların Ülkelere Göre Dağılımı:\n",
      "TR    354\n",
      "US    340\n",
      "NL    308\n",
      "Name: country, dtype: int64\n"
     ]
    }
   ],
   "source": [
    "# Ülkelere göre dağılım\n",
    "print(\"Kullanıcıların Ülkelere Göre Dağılımı:\")\n",
    "print(df_users['country'].value_counts())\n"
   ]
  },
  {
   "cell_type": "code",
   "execution_count": 15,
   "metadata": {},
   "outputs": [
    {
     "name": "stdout",
     "output_type": "stream",
     "text": [
      "Kullanıcıların Atama Kaynaklarına Göre Dağılımı:\n",
      "tiktok       352\n",
      "organic      344\n",
      "instagram    306\n",
      "Name: attribution_source, dtype: int64\n"
     ]
    }
   ],
   "source": [
    "# Atama kaynaklarına göre dağılım\n",
    "print(\"Kullanıcıların Atama Kaynaklarına Göre Dağılımı:\")\n",
    "print(df_users['attribution_source'].value_counts())\n"
   ]
  },
  {
   "cell_type": "code",
   "execution_count": 16,
   "metadata": {},
   "outputs": [
    {
     "data": {
      "image/png": "[encoded data removed]",
      "text/plain": [
       "<Figure size 800x600 with 1 Axes>"
      ]
     },
     "metadata": {},
     "output_type": "display_data"
    },
    {
     "data": {
      "image/png": "[encoded data removed]",
      "text/plain": [
       "<Figure size 800x600 with 1 Axes>"
      ]
     },
     "metadata": {},
     "output_type": "display_data"
    }
   ],
   "source": [
    "import matplotlib.pyplot as plt\n",
    "import seaborn as sns\n",
    "\n",
    "# Ülkelere göre dağılımı görselleştir\n",
    "plt.figure(figsize=(8, 6))\n",
    "sns.countplot(x='country', data=df_users, palette='Set2')\n",
    "plt.title('Kullanıcıların Ülkelere Göre Dağılımı')\n",
    "plt.show()\n",
    "\n",
    "# Atama kaynaklarına göre dağılımı görselleştir\n",
    "plt.figure(figsize=(8, 6))\n",
    "sns.countplot(x='attribution_source', data=df_users, palette='Set1')\n",
    "plt.title('Kullanıcıların Atama Kaynaklarına Göre Dağılımı')\n",
    "plt.show()\n"
   ]
  },
  {
   "cell_type": "code",
   "execution_count": 21,
   "metadata": {},
   "outputs": [
    {
     "name": "stdout",
     "output_type": "stream",
     "text": [
      "Users Tablosundaki Satır Sayıları:\n",
      "id                    1002\n",
      "created_at            1002\n",
      "attribution_source    1002\n",
      "country               1002\n",
      "name                  1002\n",
      "dtype: int64\n",
      "\n",
      "User Events Tablosundaki Satır Sayıları:\n",
      "id            3486\n",
      "created_at    3486\n",
      "user_id       3486\n",
      "event_name    3486\n",
      "amount_usd    1231\n",
      "dtype: int64\n"
     ]
    }
   ],
   "source": [
    "# Users tablosunda satır sayısını görmek\n",
    "print(\"Users Tablosundaki Satır Sayıları:\")\n",
    "print(df_users.count())\n",
    "\n",
    "# User Events tablosunda satır sayısını görmek\n",
    "print(\"\\nUser Events Tablosundaki Satır Sayıları:\")\n",
    "print(df_events.count())\n"
   ]
  },
  {
   "cell_type": "code",
   "execution_count": 22,
   "metadata": {},
   "outputs": [
    {
     "name": "stdout",
     "output_type": "stream",
     "text": [
      "    id           created_at  user_id            event_name  amount_usd\n",
      "5    6  2024-10-20T00:00:00        2  subscription_started        8.99\n",
      "6    7  2024-11-19T00:00:00        2  subscription_renewed        8.99\n",
      "7    8  2024-12-19T00:00:00        2  subscription_renewed        8.99\n",
      "8    9  2025-01-18T00:00:00        2  subscription_renewed        8.99\n",
      "12  13  2024-10-21T00:00:00        3  subscription_started        4.99\n",
      "13  14  2024-11-20T00:00:00        3  subscription_renewed        4.99\n",
      "14  15  2024-12-20T00:00:00        3  subscription_renewed        4.99\n",
      "15  16  2025-01-19T00:00:00        3  subscription_renewed        4.99\n",
      "27  28  2024-08-28T00:00:00        8  subscription_started        4.99\n",
      "28  29  2024-09-27T00:00:00        8  subscription_renewed        4.99\n"
     ]
    }
   ],
   "source": [
    "# 'amount_usd' sütununda veri bulunan satırları filtrele\n",
    "non_null_amount_usd = df_events[df_events['amount_usd'].notnull()]\n",
    "\n",
    "# İlk 10 satırı göster\n",
    "print(non_null_amount_usd.head(10))\n"
   ]
  },
  {
   "cell_type": "markdown",
   "metadata": {},
   "source": [
    "For the numeric data types id and user_id, the sum, mean, standard deviation, min-max values are meaningless. The results for the amount_usd column are OK, but they are meaningless because it stands alone. This code block was not useful for dataset discovery. "
   ]
  },
  {
   "cell_type": "code",
   "execution_count": null,
   "metadata": {},
   "outputs": [],
   "source": []
  }
 ],
 "metadata": {
  "kernelspec": {
   "display_name": "Python 3 (ipykernel)",
   "language": "python",
   "name": "python3"
  },
  "language_info": {
   "codemirror_mode": {
    "name": "ipython",
    "version": 3
   },
   "file_extension": ".py",
   "mimetype": "text/x-python",
   "name": "python",
   "nbconvert_exporter": "python",
   "pygments_lexer": "ipython3",
   "version": "3.9.13"
  }
 },
 "nbformat": 4,
 "nbformat_minor": 4
}
